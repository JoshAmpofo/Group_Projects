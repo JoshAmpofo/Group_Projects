{
 "cells": [
  {
   "cell_type": "code",
   "execution_count": 1,
   "metadata": {},
   "outputs": [],
   "source": [
    "import pandas as pd"
   ]
  },
  {
   "cell_type": "code",
   "execution_count": 2,
   "metadata": {},
   "outputs": [
    {
     "data": {
      "text/html": [
       "<div>\n",
       "<style scoped>\n",
       "    .dataframe tbody tr th:only-of-type {\n",
       "        vertical-align: middle;\n",
       "    }\n",
       "\n",
       "    .dataframe tbody tr th {\n",
       "        vertical-align: top;\n",
       "    }\n",
       "\n",
       "    .dataframe thead th {\n",
       "        text-align: right;\n",
       "    }\n",
       "</style>\n",
       "<table border=\"1\" class=\"dataframe\">\n",
       "  <thead>\n",
       "    <tr style=\"text-align: right;\">\n",
       "      <th></th>\n",
       "      <th>Loan_ID</th>\n",
       "      <th>Gender</th>\n",
       "      <th>Married</th>\n",
       "      <th>Dependents</th>\n",
       "      <th>Education</th>\n",
       "      <th>Self_Employed</th>\n",
       "      <th>ApplicantIncome</th>\n",
       "      <th>CoapplicantIncome</th>\n",
       "      <th>LoanAmount</th>\n",
       "      <th>Loan_Amount_Term</th>\n",
       "      <th>Credit_History</th>\n",
       "      <th>Property_Area</th>\n",
       "      <th>Loan_Status</th>\n",
       "    </tr>\n",
       "  </thead>\n",
       "  <tbody>\n",
       "    <tr>\n",
       "      <th>0</th>\n",
       "      <td>LP001002</td>\n",
       "      <td>Male</td>\n",
       "      <td>No</td>\n",
       "      <td>0</td>\n",
       "      <td>Graduate</td>\n",
       "      <td>No</td>\n",
       "      <td>5849</td>\n",
       "      <td>0.0</td>\n",
       "      <td>NaN</td>\n",
       "      <td>360.0</td>\n",
       "      <td>1.0</td>\n",
       "      <td>Urban</td>\n",
       "      <td>Y</td>\n",
       "    </tr>\n",
       "    <tr>\n",
       "      <th>1</th>\n",
       "      <td>LP001003</td>\n",
       "      <td>Male</td>\n",
       "      <td>Yes</td>\n",
       "      <td>1</td>\n",
       "      <td>Graduate</td>\n",
       "      <td>No</td>\n",
       "      <td>4583</td>\n",
       "      <td>1508.0</td>\n",
       "      <td>128.0</td>\n",
       "      <td>360.0</td>\n",
       "      <td>1.0</td>\n",
       "      <td>Rural</td>\n",
       "      <td>N</td>\n",
       "    </tr>\n",
       "    <tr>\n",
       "      <th>2</th>\n",
       "      <td>LP001005</td>\n",
       "      <td>Male</td>\n",
       "      <td>Yes</td>\n",
       "      <td>0</td>\n",
       "      <td>Graduate</td>\n",
       "      <td>Yes</td>\n",
       "      <td>3000</td>\n",
       "      <td>0.0</td>\n",
       "      <td>66.0</td>\n",
       "      <td>360.0</td>\n",
       "      <td>1.0</td>\n",
       "      <td>Urban</td>\n",
       "      <td>Y</td>\n",
       "    </tr>\n",
       "    <tr>\n",
       "      <th>3</th>\n",
       "      <td>LP001006</td>\n",
       "      <td>Male</td>\n",
       "      <td>Yes</td>\n",
       "      <td>0</td>\n",
       "      <td>Not Graduate</td>\n",
       "      <td>No</td>\n",
       "      <td>2583</td>\n",
       "      <td>2358.0</td>\n",
       "      <td>120.0</td>\n",
       "      <td>360.0</td>\n",
       "      <td>1.0</td>\n",
       "      <td>Urban</td>\n",
       "      <td>Y</td>\n",
       "    </tr>\n",
       "    <tr>\n",
       "      <th>4</th>\n",
       "      <td>LP001008</td>\n",
       "      <td>Male</td>\n",
       "      <td>No</td>\n",
       "      <td>0</td>\n",
       "      <td>Graduate</td>\n",
       "      <td>No</td>\n",
       "      <td>6000</td>\n",
       "      <td>0.0</td>\n",
       "      <td>141.0</td>\n",
       "      <td>360.0</td>\n",
       "      <td>1.0</td>\n",
       "      <td>Urban</td>\n",
       "      <td>Y</td>\n",
       "    </tr>\n",
       "  </tbody>\n",
       "</table>\n",
       "</div>"
      ],
      "text/plain": [
       "    Loan_ID Gender Married Dependents     Education Self_Employed  \\\n",
       "0  LP001002   Male      No          0      Graduate            No   \n",
       "1  LP001003   Male     Yes          1      Graduate            No   \n",
       "2  LP001005   Male     Yes          0      Graduate           Yes   \n",
       "3  LP001006   Male     Yes          0  Not Graduate            No   \n",
       "4  LP001008   Male      No          0      Graduate            No   \n",
       "\n",
       "   ApplicantIncome  CoapplicantIncome  LoanAmount  Loan_Amount_Term  \\\n",
       "0             5849                0.0         NaN             360.0   \n",
       "1             4583             1508.0       128.0             360.0   \n",
       "2             3000                0.0        66.0             360.0   \n",
       "3             2583             2358.0       120.0             360.0   \n",
       "4             6000                0.0       141.0             360.0   \n",
       "\n",
       "   Credit_History Property_Area Loan_Status  \n",
       "0             1.0         Urban           Y  \n",
       "1             1.0         Rural           N  \n",
       "2             1.0         Urban           Y  \n",
       "3             1.0         Urban           Y  \n",
       "4             1.0         Urban           Y  "
      ]
     },
     "execution_count": 2,
     "metadata": {},
     "output_type": "execute_result"
    }
   ],
   "source": [
    "train = pd.read_csv('Documents/train_ctrUa4K.csv')\n",
    "train.head()"
   ]
  },
  {
   "cell_type": "code",
   "execution_count": 3,
   "metadata": {},
   "outputs": [],
   "source": [
    "train['Gender']= train['Gender'].map({'Male':0, 'Female':1})\n",
    "train['Married']= train['Married'].map({'No':0, 'Yes':1})\n",
    "train['Loan_Status']= train['Loan_Status'].map({'N':0, 'Y':1})"
   ]
  },
  {
   "cell_type": "code",
   "execution_count": 4,
   "metadata": {},
   "outputs": [
    {
     "data": {
      "text/plain": [
       "(614, 13)"
      ]
     },
     "execution_count": 4,
     "metadata": {},
     "output_type": "execute_result"
    }
   ],
   "source": [
    "train.shape"
   ]
  },
  {
   "cell_type": "code",
   "execution_count": 5,
   "metadata": {},
   "outputs": [
    {
     "data": {
      "text/plain": [
       "Loan_ID               0\n",
       "Gender               13\n",
       "Married               3\n",
       "Dependents           15\n",
       "Education             0\n",
       "Self_Employed        32\n",
       "ApplicantIncome       0\n",
       "CoapplicantIncome     0\n",
       "LoanAmount           22\n",
       "Loan_Amount_Term     14\n",
       "Credit_History       50\n",
       "Property_Area         0\n",
       "Loan_Status           0\n",
       "dtype: int64"
      ]
     },
     "execution_count": 5,
     "metadata": {},
     "output_type": "execute_result"
    }
   ],
   "source": [
    "train.isnull().sum()"
   ]
  },
  {
   "cell_type": "code",
   "execution_count": 6,
   "metadata": {},
   "outputs": [],
   "source": [
    "train = train.dropna()"
   ]
  },
  {
   "cell_type": "code",
   "execution_count": 7,
   "metadata": {},
   "outputs": [
    {
     "data": {
      "text/plain": [
       "Loan_ID              0\n",
       "Gender               0\n",
       "Married              0\n",
       "Dependents           0\n",
       "Education            0\n",
       "Self_Employed        0\n",
       "ApplicantIncome      0\n",
       "CoapplicantIncome    0\n",
       "LoanAmount           0\n",
       "Loan_Amount_Term     0\n",
       "Credit_History       0\n",
       "Property_Area        0\n",
       "Loan_Status          0\n",
       "dtype: int64"
      ]
     },
     "execution_count": 7,
     "metadata": {},
     "output_type": "execute_result"
    }
   ],
   "source": [
    "train.isnull().sum()"
   ]
  },
  {
   "cell_type": "code",
   "execution_count": 8,
   "metadata": {},
   "outputs": [
    {
     "data": {
      "text/plain": [
       "((480, 5), (480,))"
      ]
     },
     "execution_count": 8,
     "metadata": {},
     "output_type": "execute_result"
    }
   ],
   "source": [
    "X = train[['Gender', 'Married', 'ApplicantIncome', 'LoanAmount','Credit_History']]\n",
    "y = train.Loan_Status\n",
    "X.shape, y.shape"
   ]
  },
  {
   "cell_type": "code",
   "execution_count": 9,
   "metadata": {},
   "outputs": [],
   "source": [
    "from sklearn.model_selection import train_test_split\n",
    "x_train, x_cv, y_train, y_cv = train_test_split(X,y, test_size = 0.2,\n",
    "random_state = 10)"
   ]
  },
  {
   "cell_type": "code",
   "execution_count": 10,
   "metadata": {},
   "outputs": [
    {
     "data": {
      "text/plain": [
       "RandomForestClassifier(max_depth=4, random_state=10)"
      ]
     },
     "execution_count": 10,
     "metadata": {},
     "output_type": "execute_result"
    }
   ],
   "source": [
    "from sklearn.ensemble import RandomForestClassifier\n",
    "model = RandomForestClassifier(max_depth=4, random_state = 10)\n",
    "model.fit(x_train, y_train)"
   ]
  },
  {
   "cell_type": "code",
   "execution_count": 11,
   "metadata": {},
   "outputs": [
    {
     "data": {
      "text/plain": [
       "0.8020833333333334"
      ]
     },
     "execution_count": 11,
     "metadata": {},
     "output_type": "execute_result"
    }
   ],
   "source": [
    "from sklearn.metrics import accuracy_score\n",
    "pred_cv = model.predict(x_cv)\n",
    "accuracy_score(y_cv,pred_cv)"
   ]
  },
  {
   "cell_type": "code",
   "execution_count": 12,
   "metadata": {},
   "outputs": [
    {
     "data": {
      "text/plain": [
       "0.8203125"
      ]
     },
     "execution_count": 12,
     "metadata": {},
     "output_type": "execute_result"
    }
   ],
   "source": [
    "pred_train = model.predict(x_train)\n",
    "accuracy_score(y_train,pred_train)"
   ]
  },
  {
   "cell_type": "code",
   "execution_count": 13,
   "metadata": {},
   "outputs": [],
   "source": [
    "# saving the model\n",
    "import pickle\n",
    "pickle_out = open(\"classifier.pkl\", mode = \"wb\")\n",
    "pickle.dump(model, pickle_out)\n",
    "pickle_out.close()"
   ]
  },
  {
   "cell_type": "code",
   "execution_count": 14,
   "metadata": {},
   "outputs": [],
   "source": [
    "!pip install -q pyngrok"
   ]
  },
  {
   "cell_type": "code",
   "execution_count": 15,
   "metadata": {},
   "outputs": [],
   "source": [
    "!pip install -q streamlit"
   ]
  },
  {
   "cell_type": "code",
   "execution_count": 16,
   "metadata": {},
   "outputs": [],
   "source": [
    "!pip install -q streamlit_ace"
   ]
  },
  {
   "cell_type": "code",
   "execution_count": 17,
   "metadata": {},
   "outputs": [
    {
     "name": "stderr",
     "output_type": "stream",
     "text": [
      "2021-06-21 14:55:47.540 \n",
      "  \u001b[33m\u001b[1mWarning:\u001b[0m to view this Streamlit app on a browser, run it with the following\n",
      "  command:\n",
      "\n",
      "    streamlit run C:\\Users\\Lenovo\\anaconda3\\lib\\site-packages\\ipykernel_launcher.py [ARGUMENTS]\n"
     ]
    }
   ],
   "source": [
    "import pickle\n",
    "import streamlit as st\n",
    " \n",
    "# loading the trained model\n",
    "pickle_in = open('classifier.pkl', 'rb') \n",
    "classifier = pickle.load(pickle_in)\n",
    " \n",
    "@st.cache()\n",
    "  \n",
    "# defining the function which will make the prediction using the data which the user inputs \n",
    "def prediction(Gender, Married, ApplicantIncome, LoanAmount, Credit_History):   \n",
    " \n",
    "    # Pre-processing user input    \n",
    "    if Gender == \"Male\":\n",
    "        Gender = 0\n",
    "    else:\n",
    "        Gender = 1\n",
    " \n",
    "    if Married == \"Unmarried\":\n",
    "        Married = 0\n",
    "    else:\n",
    "        Married = 1\n",
    " \n",
    "    if Credit_History == \"Unclear Debts\":\n",
    "        Credit_History = 0\n",
    "    else:\n",
    "        Credit_History = 1  \n",
    " \n",
    "    LoanAmount = LoanAmount / 1000\n",
    " \n",
    "    # Making predictions \n",
    "    prediction = classifier.predict( \n",
    "        [[Gender, Married, ApplicantIncome, LoanAmount, Credit_History]])\n",
    "     \n",
    "    if prediction == 0:\n",
    "        pred = 'Rejected'\n",
    "    else:\n",
    "        pred = 'Approved'\n",
    "    return pred\n",
    "      \n",
    "#this is the main function in which we define our webpage  \n",
    "def main():       \n",
    "    # front end elements of the web page \n",
    "    html_temp = \"\"\" \n",
    "    <div style =\"background-color:yellow;padding:13px\"> \n",
    "    <h1 style =\"color:black;text-align:center;\">Streamlit Loan Prediction ML App</h1> \n",
    "    </div> \n",
    "    \"\"\"\n",
    "      \n",
    "    # display the front end aspect\n",
    "    st.markdown(html_temp, unsafe_allow_html = True) \n",
    "      \n",
    "    # following lines create boxes in which user can enter data required to make prediction \n",
    "    Gender = st.selectbox('Gender',(\"Male\",\"Female\"))\n",
    "    Married = st.selectbox('Marital Status',(\"Unmarried\",\"Married\")) \n",
    "    ApplicantIncome = st.number_input(\"Applicants monthly income\") \n",
    "    LoanAmount = st.number_input(\"Total loan amount\")\n",
    "    Credit_History = st.selectbox('Credit_History',(\"Unclear Debts\",\"No Unclear Debts\"))\n",
    "    result =\"\"\n",
    "      \n",
    "    # when 'Predict' is clicked, make the prediction and store it \n",
    "    if st.button(\"Predict\"): \n",
    "        result = prediction(Gender, Married, ApplicantIncome, LoanAmount, Credit_History) \n",
    "        st.success('Your loan is {}'.format(result))\n",
    "        print(LoanAmount)\n",
    "if __name__=='__main__': \n",
    "    main()"
   ]
  },
  {
   "cell_type": "code",
   "execution_count": 20,
   "metadata": {},
   "outputs": [
    {
     "name": "stderr",
     "output_type": "stream",
     "text": [
      "2021-06-21 14:59:47.460 Opening tunnel named: http-8501-9aa36099-8ae5-4f65-b947-5dedcaf06d56\n"
     ]
    },
    {
     "name": "stdout",
     "output_type": "stream",
     "text": [
      "                                                                                                    \r"
     ]
    },
    {
     "name": "stderr",
     "output_type": "stream",
     "text": [
      "2021-06-21 15:01:50.539 t=2021-06-21T15:01:50+0000 lvl=info msg=\"no configuration paths supplied\"\n",
      "2021-06-21 15:01:50.541 t=2021-06-21T15:01:50+0000 lvl=info msg=\"using configuration at default config path\" path=C:\\\\Users\\\\Lenovo/.ngrok2/ngrok.yml\n",
      "2021-06-21 15:01:50.542 t=2021-06-21T15:01:50+0000 lvl=info msg=\"open config file\" path=C:\\\\Users\\\\Lenovo\\\\.ngrok2\\\\ngrok.yml err=nil\n",
      "2021-06-21 15:01:50.544 t=2021-06-21T15:01:50+0000 lvl=info msg=\"starting web service\" obj=web addr=127.0.0.1:4040\n",
      "2021-06-21 15:01:51.841 t=2021-06-21T15:01:51+0000 lvl=info msg=\"tunnel session started\" obj=tunnels.session\n",
      "2021-06-21 15:01:51.843 t=2021-06-21T15:01:51+0000 lvl=info msg=\"client session established\" obj=csess id=7a75d9df6a70\n",
      "2021-06-21 15:01:51.865 t=2021-06-21T15:01:51+0000 lvl=info msg=start pg=/api/tunnels id=1218559379a371f0\n",
      "2021-06-21 15:01:51.882 t=2021-06-21T15:01:51+0000 lvl=info msg=end pg=/api/tunnels id=1218559379a371f0 status=200 dur=1.0011ms\n",
      "2021-06-21 15:01:51.886 t=2021-06-21T15:01:51+0000 lvl=info msg=start pg=/api/tunnels id=ce20efda8f5a4c87\n",
      "2021-06-21 15:01:51.890 t=2021-06-21T15:01:51+0000 lvl=info msg=end pg=/api/tunnels id=ce20efda8f5a4c87 status=200 dur=0s\n",
      "2021-06-21 15:01:51.893 t=2021-06-21T15:01:51+0000 lvl=info msg=start pg=/api/tunnels id=d7cbec22bcb47bf8\n",
      "2021-06-21 15:01:52.602 t=2021-06-21T15:01:52+0000 lvl=info msg=\"started tunnel\" obj=tunnels name=\"http-8501-9aa36099-8ae5-4f65-b947-5dedcaf06d56 (http)\" addr=http://localhost:8501 url=http://72ae28f358a9.ngrok.io\n",
      "2021-06-21 15:01:52.609 t=2021-06-21T15:01:52+0000 lvl=info msg=\"started tunnel\" obj=tunnels name=http-8501-9aa36099-8ae5-4f65-b947-5dedcaf06d56 addr=http://localhost:8501 url=https://72ae28f358a9.ngrok.io\n",
      "2021-06-21 15:01:52.617 t=2021-06-21T15:01:52+0000 lvl=info msg=end pg=/api/tunnels id=d7cbec22bcb47bf8 status=201 dur=720.101ms\n"
     ]
    },
    {
     "data": {
      "text/plain": [
       "<NgrokTunnel: \"http://72ae28f358a9.ngrok.io\" -> \"http://localhost:8501\">"
      ]
     },
     "execution_count": 20,
     "metadata": {},
     "output_type": "execute_result"
    },
    {
     "name": "stderr",
     "output_type": "stream",
     "text": [
      "2021-06-21 15:01:52.621 t=2021-06-21T15:01:52+0000 lvl=info msg=start pg=\"/api/tunnels/http-8501-9aa36099-8ae5-4f65-b947-5dedcaf06d56 (http)\" id=48e7c73809619dd7\n",
      "2021-06-21 15:01:52.626 t=2021-06-21T15:01:52+0000 lvl=info msg=end pg=\"/api/tunnels/http-8501-9aa36099-8ae5-4f65-b947-5dedcaf06d56 (http)\" id=48e7c73809619dd7 status=200 dur=0s\n",
      "2021-06-21 15:04:13.147 t=2021-06-21T15:04:13+0000 lvl=warn msg=\"failed to open private leg\" id=c3ba65b63061 privaddr=localhost:8501 err=\"dial tcp [::1]:8501: connectex: No connection could be made because the target machine actively refused it.\"\n",
      "2021-06-21 15:04:16.517 t=2021-06-21T15:04:16+0000 lvl=warn msg=\"failed to open private leg\" id=00366f000344 privaddr=localhost:8501 err=\"dial tcp [::1]:8501: connectex: No connection could be made because the target machine actively refused it.\"\n"
     ]
    }
   ],
   "source": [
    "from pyngrok import ngrok\n",
    " \n",
    "public_url = ngrok.connect('8501')\n",
    "public_url"
   ]
  },
  {
   "cell_type": "code",
   "execution_count": null,
   "metadata": {},
   "outputs": [],
   "source": []
  }
 ],
 "metadata": {
  "kernelspec": {
   "display_name": "Python 3",
   "language": "python",
   "name": "python3"
  },
  "language_info": {
   "codemirror_mode": {
    "name": "ipython",
    "version": 3
   },
   "file_extension": ".py",
   "mimetype": "text/x-python",
   "name": "python",
   "nbconvert_exporter": "python",
   "pygments_lexer": "ipython3",
   "version": "3.8.5"
  }
 },
 "nbformat": 4,
 "nbformat_minor": 5
}
